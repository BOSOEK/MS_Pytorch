{
 "cells": [
  {
   "cell_type": "markdown",
   "id": "34e0dc14-730c-4590-a139-dea29ed4dbad",
   "metadata": {},
   "source": [
    "# **모델 레이어 만들기**\n",
    "신경망을 위해 토치는  `torch.nn`을 제공하며 토치는 모든 모듈을 `nn.Module`의 하위 클래스로 만든다"
   ]
  },
  {
   "cell_type": "code",
   "execution_count": 3,
   "id": "971e320a-527b-4ffc-a6ba-ea44383e737f",
   "metadata": {},
   "outputs": [],
   "source": [
    "import os\n",
    "import torch\n",
    "from torch import nn\n",
    "from torch.utils.data import DataLoader\n",
    "from torchvision import datasets, transforms"
   ]
  },
  {
   "cell_type": "markdown",
   "id": "6ba49e47-4622-4457-ad04-94353e93acfb",
   "metadata": {},
   "source": [
    "### **교육용 하드웨어 장치 받기**\n",
    "가능하면 GPU처럼 가속기에서 모델을 훈련하는게 좋다.\n",
    "`torch.cuda`를 사용 가능한지 확인한다"
   ]
  },
  {
   "cell_type": "code",
   "execution_count": 4,
   "id": "d9099f27-0260-45f8-a92e-4b53dee5af66",
   "metadata": {},
   "outputs": [
    {
     "name": "stdout",
     "output_type": "stream",
     "text": [
      "Using cpu device\n"
     ]
    }
   ],
   "source": [
    "device = 'cuda' if torch.cuda.is_available() else 'cpu'\n",
    "print('Using {} device'.format(device))"
   ]
  },
  {
   "cell_type": "markdown",
   "id": "70ac05a2-43a7-4c6b-a80c-497831e11015",
   "metadata": {},
   "source": [
    "~~나는 gpu가 없다 ㅠㅠ~~\n",
    "\n",
    "### **클래스 정의**\n",
    "우리의 신경 네트워크를 정의하기 위해 토치의 `nn.Module`을 상속받는 클래스를 만든다.\n",
    "* `__init__` : 신경망 초기화(생성)\n",
    "* `forward` : 데이터를 입력받아 순방향 전파를 진행하는 함수"
   ]
  },
  {
   "cell_type": "code",
   "execution_count": 12,
   "id": "7fbef23f-70e7-4cc9-9da5-dcd9f957ac51",
   "metadata": {},
   "outputs": [
    {
     "name": "stdout",
     "output_type": "stream",
     "text": [
      "NeuralNetwork(\n",
      "  (flatten): Flatten(start_dim=1, end_dim=-1)\n",
      "  (linear_relu_stack): Sequential(\n",
      "    (0): Linear(in_features=784, out_features=512, bias=True)\n",
      "    (1): ReLU()\n",
      "    (2): Linear(in_features=512, out_features=512, bias=True)\n",
      "    (3): ReLU()\n",
      "    (4): Linear(in_features=512, out_features=10, bias=True)\n",
      "    (5): ReLU()\n",
      "  )\n",
      ")\n"
     ]
    }
   ],
   "source": [
    "class NeuralNetwork(nn.Module):\n",
    "    def __init__(self):\n",
    "        super(NeuralNetwork, self).__init__()\n",
    "        self.flatten = nn.Flatten()\n",
    "        self.linear_relu_stack = nn.Sequential(\n",
    "            nn.Linear(28 * 28, 512),\n",
    "            nn.ReLU(),\n",
    "            nn.Linear(512, 512),\n",
    "            nn.ReLU(),\n",
    "            nn.Linear(512, 10),\n",
    "            nn.ReLU()\n",
    "        )\n",
    "        def forward(self, x):\n",
    "            x = self.flatten(x)\n",
    "            logits = self.linear_relu_stack(x)\n",
    "            return logits\n",
    "\n",
    "model = NeuralNetwork().to(device)\n",
    "print(model)  # 모델 출력"
   ]
  },
  {
   "cell_type": "markdown",
   "id": "eca995d4-38a2-4b92-9165-97a7be146c07",
   "metadata": {},
   "source": [
    "**모델 레이어 사용**"
   ]
  },
  {
   "cell_type": "code",
   "execution_count": 23,
   "id": "6ed90588-61fc-43f3-be92-b7b320acc49e",
   "metadata": {},
   "outputs": [
    {
     "name": "stdout",
     "output_type": "stream",
     "text": [
      "Model structure:  NeuralNetwork(\n",
      "  (flatten): Flatten(start_dim=1, end_dim=-1)\n",
      "  (linear_relu_stack): Sequential(\n",
      "    (0): Linear(in_features=784, out_features=512, bias=True)\n",
      "    (1): ReLU()\n",
      "    (2): Linear(in_features=512, out_features=512, bias=True)\n",
      "    (3): ReLU()\n",
      "    (4): Linear(in_features=512, out_features=10, bias=True)\n",
      "    (5): ReLU()\n",
      "  )\n",
      ") \n",
      "\n",
      "\n",
      "Layer: linear_relu_stack.0.weight | Size : torch.Size([512, 784]) | Values : tensor([[-0.0260, -0.0297,  0.0264,  ...,  0.0006, -0.0216,  0.0333],\n",
      "        [ 0.0094,  0.0344, -0.0056,  ..., -0.0012, -0.0076,  0.0356]],\n",
      "       grad_fn=<SliceBackward>) \n",
      "\n",
      "Layer: linear_relu_stack.0.bias | Size : torch.Size([512]) | Values : tensor([-0.0181,  0.0086], grad_fn=<SliceBackward>) \n",
      "\n",
      "Layer: linear_relu_stack.2.weight | Size : torch.Size([512, 512]) | Values : tensor([[-0.0187, -0.0084,  0.0049,  ..., -0.0382,  0.0244, -0.0066],\n",
      "        [ 0.0331, -0.0195,  0.0280,  ..., -0.0434,  0.0158,  0.0238]],\n",
      "       grad_fn=<SliceBackward>) \n",
      "\n",
      "Layer: linear_relu_stack.2.bias | Size : torch.Size([512]) | Values : tensor([ 0.0148, -0.0236], grad_fn=<SliceBackward>) \n",
      "\n",
      "Layer: linear_relu_stack.4.weight | Size : torch.Size([10, 512]) | Values : tensor([[-0.0189,  0.0278, -0.0388,  ...,  0.0308,  0.0072, -0.0426],\n",
      "        [ 0.0036, -0.0336,  0.0179,  ..., -0.0101, -0.0168, -0.0027]],\n",
      "       grad_fn=<SliceBackward>) \n",
      "\n",
      "Layer: linear_relu_stack.4.bias | Size : torch.Size([10]) | Values : tensor([ 0.0219, -0.0327], grad_fn=<SliceBackward>) \n",
      "\n"
     ]
    }
   ],
   "source": [
    "input_image = torch.rand(3, 28, 28)\n",
    "# nn.Flatten : 레이어 초기화\n",
    "flatten = nn.Flatten()\n",
    "flat_image = flatten(input_image)\n",
    "\n",
    "# nn.linear : 가중치 및 바이어스로 선형 변환 적용\n",
    "layer1 = nn.Linear(in_features=28 * 28, out_features = 20)\n",
    "hidden1 = layer1(flat_image)\n",
    "\n",
    "# nn.ReLU : 비선형으로 신경망이 다양한 현상을 학습하게한다.\n",
    "hidden1 = nn.ReLU()(hidden1)\n",
    "\n",
    "# nn.Sequential : 모델 구조 선언\n",
    "s = nn.Sequential(\n",
    "    flatten,\n",
    "    layer1,\n",
    "    nn.ReLU(),\n",
    "    nn.Linear(20, 10)\n",
    ")\n",
    "in_img = torch.rand(3, 28, 28)\n",
    "logits = s(in_img)\n",
    "\n",
    "# nn.Softmax : 모델의 예측을 확률로 변환\n",
    "softmax = nn.Softmax(dim=1)\n",
    "pred = softmax(logits)\n",
    "\n",
    "# 모델 매개변수 : 모델은 가중치 및 편향같은 매개변수가 있다 이때 `parameters()`, `named_parameters()` 로 모든 매개변수에 접근할 수 있다\n",
    "print(\"Model structure: \", model, \"\\n\\n\")\n",
    "for name, param in model.named_parameters():\n",
    "    print(f\"Layer: {name} | Size : {param.size()} | Values : {param[:2]} \\n\")"
   ]
  },
  {
   "cell_type": "code",
   "execution_count": null,
   "id": "eb57724f-200a-408e-80fd-95c6536c8cc2",
   "metadata": {},
   "outputs": [],
   "source": []
  }
 ],
 "metadata": {
  "kernelspec": {
   "display_name": "Python 3",
   "language": "python",
   "name": "python3"
  },
  "language_info": {
   "codemirror_mode": {
    "name": "ipython",
    "version": 3
   },
   "file_extension": ".py",
   "mimetype": "text/x-python",
   "name": "python",
   "nbconvert_exporter": "python",
   "pygments_lexer": "ipython3",
   "version": "3.8.8"
  }
 },
 "nbformat": 4,
 "nbformat_minor": 5
}
