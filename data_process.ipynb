{
 "cells": [
  {
   "cell_type": "markdown",
   "id": "31cab17a-e484-4490-9b3f-cf4bffa6a6df",
   "metadata": {},
   "source": [
    "# 데이터 로드\n",
    "\n",
    "파이토치는 ```torch.tuils.data.DataLoader``` 와 ```torch.utils.data.Dataset``` 두개의 데이터 프리미티브를 제공한다.\n",
    "\n",
    "### 하이퍼 파라미터\n",
    "* ```Iteration``` : 미니 배치를 이용해 학습하는 횟수\n",
    "* ```Mini_Batch``` : 데이터 학습시 한번에 학습할 데이터의 양\n",
    "* ```EPOCHS``` : 전체 데이터로 학습한 횟수\n",
    "* ```BATCH_SIZE``` : MLP 모델을 학습할 때 필요한 데이터 개수\n",
    "\n",
    "### Dataset : 데이터를 불러올 때 사용\n",
    "* ```root``` : 데이터가 저장되는 경로\n",
    "* ```train``` : 데이터가 테스트용인지 훈련 용인지를 결정합니다\n",
    "* ```download``` : 인터넷에서 다운로드할 것인지 결정\n",
    "* ```transform``` : 데이터 전처리 지정(transforms.ToTensor() 지정시 텐서 형태로 변경하고 정규화를 할 수 있다)\n",
    "\n",
    "### DataLoader : 데이터를 미니 배치 단위로 분리해 지정\n",
    "* ```dataset``` : 미니 배치 단위로 할당하고자 하는 데이터셋 지정 train_dataset/test_dataset\n",
    "* ```batch_size``` : 미니배치 1개를 구성하는 데이터 개수\n",
    "* ```shuffle``` : 데이터를 섞을 것인가"
   ]
  },
  {
   "cell_type": "code",
   "execution_count": 1,
   "id": "a35970ed-6c9d-416f-b562-ef5cc7e572c6",
   "metadata": {},
   "outputs": [
    {
     "name": "stderr",
     "output_type": "stream",
     "text": [
      "D:\\download\\Anaconda\\lib\\site-packages\\torchvision\\datasets\\mnist.py:498: UserWarning: The given NumPy array is not writeable, and PyTorch does not support non-writeable tensors. This means you can write to the underlying (supposedly non-writeable) NumPy array using the tensor. You may want to copy the array to protect its data or make it writeable before converting it to a tensor. This type of warning will be suppressed for the rest of this program. (Triggered internally at  ..\\torch\\csrc\\utils\\tensor_numpy.cpp:180.)\n",
      "  return torch.from_numpy(parsed.astype(m[2], copy=False)).view(*s)\n"
     ]
    }
   ],
   "source": [
    "import torch\n",
    "from torch.utils.data import Dataset\n",
    "from torchvision import datasets\n",
    "from torchvision.transforms import ToTensor, Lambda\n",
    "import matplotlib.pyplot as plt\n",
    "\n",
    "training_data = datasets.FashionMNIST(\n",
    "    root=\"data\",\n",
    "    train=True,\n",
    "    download=True,\n",
    "    transform=ToTensor()\n",
    ")\n",
    "\n",
    "test_data = datasets.FashionMNIST(\n",
    "    root=\"data\",\n",
    "    train=False,\n",
    "    download=True,\n",
    "    transform=ToTensor()\n",
    ")"
   ]
  },
  {
   "cell_type": "markdown",
   "id": "1c1cf069-6cfb-4158-98b0-cc3368242bd4",
   "metadata": {},
   "source": [
    "### 파일에 대한 맞춤 데이터 셑 만들기\n",
    "데이터 집합 클래스는 세기능을 구현해야 한다 `__init__`, `__len__`, `__getitem__`이다.\n",
    "* `__init__` : 데이터 셋 개체를 인스턴스화 할때 한번만 실행된다. __이미지, 주석, 파일 및 디렉터리 초기화__ 등\n",
    "* `__len__` : 데이터 세트의 __샘플 수__ 반환\n",
    "* `__getitem__` : 주어진 인덱스에 있는 데이터 세트에서 샘플을 로드하고 반환. 인덱스를 기반으로 이미지 위치를 식별하고 사용하여 텐서로 변환하고 텐서 이미지와 해당 레이블 반환\n"
   ]
  },
  {
   "cell_type": "code",
   "execution_count": 2,
   "id": "e4a805a8-25bf-475b-af77-557a69d2a67f",
   "metadata": {},
   "outputs": [],
   "source": [
    "import os\n",
    "import pandas as pd\n",
    "import torchvision.io as tvio\n",
    "\n",
    "class CustomImageDataset(Dataset):\n",
    "    def __init__(self, annotations_file, img_dir, transform=None, target_transform=None):\n",
    "        self.img_lables = pd.read_csv(annotations_file)\n",
    "        self.img_dir = img_dir\n",
    "        self.transform = transform\n",
    "        self.target_transform = target_transform\n",
    "        \n",
    "    def __len__(self):\n",
    "        return len(self.img_lables)\n",
    "    \n",
    "    def __getitem__(self, idx):\n",
    "        img_path = os.path.join(self.img_dir, self.img_labels.iloc[idx, 0])\n",
    "        image = tvio.read_image(img_path)\n",
    "        lable = self.img_labels.iloc[idx, 1]\n",
    "        if self.transform:\n",
    "            image = self.transform(image)\n",
    "        if self.target_transform:\n",
    "            label = self.target_transform(lable)\n",
    "        sample = {\"image\" : image, \"label\" : label}\n",
    "        return sample"
   ]
  },
  {
   "cell_type": "code",
   "execution_count": 3,
   "id": "2916ece7-0c81-48c4-a03b-167d9b3ee90b",
   "metadata": {},
   "outputs": [
    {
     "name": "stdout",
     "output_type": "stream",
     "text": [
      "Feature batch shape: torch.Size([64, 1, 28, 28])\n",
      "Labels batch shape: torch.Size([64])\n"
     ]
    },
    {
     "data": {
      "image/png": "[encoded data removed]",
      "text/plain": [
       "<Figure size 432x288 with 1 Axes>"
      ]
     },
     "metadata": {
      "needs_background": "light"
     },
     "output_type": "display_data"
    },
    {
     "name": "stdout",
     "output_type": "stream",
     "text": [
      "Lable : 9\n"
     ]
    }
   ],
   "source": [
    "from torch.utils.data import DataLoader\n",
    "\n",
    "train_dataloader = DataLoader(training_data, batch_size=64, shuffle=True)\n",
    "test_dataloader = DataLoader(test_data, batch_size=64, shuffle=True)\n",
    "\n",
    "train_features, train_labels = next(iter(train_dataloader))\n",
    "print(f\"Feature batch shape: {train_features.size()}\")\n",
    "print(f\"Labels batch shape: {train_labels.size()}\")\n",
    "img = train_features[0].squeeze()\n",
    "label = train_labels[0]\n",
    "plt.imshow(img, cmap=\"gray\")\n",
    "plt.show()\n",
    "print(f\"Lable : {label}\")"
   ]
  },
  {
   "cell_type": "markdown",
   "id": "3b572d2f-f5df-481e-ab2c-5ecffe377e7f",
   "metadata": {},
   "source": [
    "### 변형\n",
    "데이터는 언제가 최종 처리가 아니기 때문에 **변환**을 해야한다.   \n",
    "훈련을 위해 **정규화 된 텐서**로 원-핫 인코딩 된 레이블이 필요하며 이때 쓰이는 것이 `ToTensor`, `Lambda`이다\n",
    "* `ToTensor` : 이미지나 넘파이 배열을 `Floattensor`로 변환하고 0~1 범위에서 픽셀 강고 값 조정\n",
    "* `Lambda` : 사용자 정의 람다 함수로 직접 텐서로 바꿈"
   ]
  },
  {
   "cell_type": "code",
   "execution_count": 4,
   "id": "d4e732ed-04f1-4ce8-8bd2-3a7ca6803597",
   "metadata": {},
   "outputs": [],
   "source": [
    "ds = datasets.FashionMNIST(\n",
    "    root=\"data\",\n",
    "    train=True,\n",
    "    download=True,\n",
    "    transform=ToTensor(),\n",
    "    target_transform=Lambda(lambda y: torch.zeros(10, dtype=torch.float).scatter_(0, torch.tensor(y), value=1))\n",
    ")"
   ]
  },
  {
   "cell_type": "code",
   "execution_count": null,
   "id": "eb7c7097-f238-4262-8222-10194be2ad63",
   "metadata": {},
   "outputs": [],
   "source": []
  }
 ],
 "metadata": {
  "kernelspec": {
   "display_name": "Python 3",
   "language": "python",
   "name": "python3"
  },
  "language_info": {
   "codemirror_mode": {
    "name": "ipython",
    "version": 3
   },
   "file_extension": ".py",
   "mimetype": "text/x-python",
   "name": "python",
   "nbconvert_exporter": "python",
   "pygments_lexer": "ipython3",
   "version": "3.8.8"
  }
 },
 "nbformat": 4,
 "nbformat_minor": 5
}
