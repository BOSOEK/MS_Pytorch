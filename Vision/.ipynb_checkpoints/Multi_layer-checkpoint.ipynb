{
 "cells": [
  {
   "cell_type": "markdown",
   "id": "eb29f6b4-f197-4806-9687-1d65dba541ac",
   "metadata": {},
   "source": [
    "# **다층 퍼셉트론**\n"
   ]
  },
  {
   "cell_type": "code",
   "execution_count": 12,
   "id": "5a8d5c2f-6e21-4662-b0fb-324ff26311eb",
   "metadata": {},
   "outputs": [],
   "source": [
    "import torch\n",
    "import torch.nn as nn\n",
    "import torchvision\n",
    "import matplotlib.pyplot as plt\n",
    "from torchinfo import summary"
   ]
  },
  {
   "cell_type": "code",
   "execution_count": 5,
   "id": "e3c2273d-cd1b-4097-8d43-82f34675d818",
   "metadata": {},
   "outputs": [
    {
     "data": {
      "text/plain": [
       "==========================================================================================\n",
       "Layer (type:depth-idx)                   Output Shape              Param #\n",
       "==========================================================================================\n",
       "Sequential                               --                        --\n",
       "├─Flatten: 1-1                           [1, 784]                  --\n",
       "├─Linear: 1-2                            [1, 100]                  78,500\n",
       "├─ReLU: 1-3                              [1, 100]                  --\n",
       "├─Linear: 1-4                            [1, 10]                   1,010\n",
       "├─LogSoftmax: 1-5                        [1, 10]                   --\n",
       "==========================================================================================\n",
       "Total params: 79,510\n",
       "Trainable params: 79,510\n",
       "Non-trainable params: 0\n",
       "Total mult-adds (M): 0.08\n",
       "==========================================================================================\n",
       "Input size (MB): 0.00\n",
       "Forward/backward pass size (MB): 0.00\n",
       "Params size (MB): 0.32\n",
       "Estimated Total Size (MB): 0.32\n",
       "=========================================================================================="
      ]
     },
     "execution_count": 5,
     "metadata": {},
     "output_type": "execute_result"
    }
   ],
   "source": [
    "net = nn.Sequential(\n",
    "        nn.Flatten(), \n",
    "        nn.Linear(784,100),     # 784 inputs, 100 outputs\n",
    "        nn.ReLU(),              # Activation Function\n",
    "        nn.Linear(100,10),      # 100 inputs, 10 outputs\n",
    "        nn.LogSoftmax(dim=0))\n",
    "\n",
    "summary(net,input_size=(1,28,28))"
   ]
  },
  {
   "cell_type": "code",
   "execution_count": 13,
   "id": "d262e4f7-6314-4895-9d2f-b029dccda88d",
   "metadata": {},
   "outputs": [],
   "source": [
    "# 필요 함수 선언\n",
    "\n",
    "# 훈련과 검증 모두에 사용 가능한 코드\n",
    "def train(net,train_loader,test_loader,optimizer=None,lr=0.01,epochs=10,loss_fn=nn.NLLLoss()):\n",
    "    optimizer = optimizer or torch.optim.Adam(net.parameters(),lr=lr)\n",
    "    res = { 'train_loss' : [], 'train_acc': [], 'val_loss': [], 'val_acc': []}\n",
    "    for ep in range(epochs):\n",
    "        tl,ta = train_epoch(net,train_loader,optimizer=optimizer,lr=lr,loss_fn=loss_fn)\n",
    "        vl,va = validate(net,test_loader,loss_fn=loss_fn)\n",
    "        print(f\"Epoch {ep:2}, Train acc={ta:.3f}, Val acc={va:.3f}, Train loss={tl:.3f}, Val loss={vl:.3f}\")\n",
    "        res['train_loss'].append(tl)\n",
    "        res['train_acc'].append(ta)\n",
    "        res['val_loss'].append(vl)\n",
    "        res['val_acc'].append(va)\n",
    "    return res\n",
    "\n",
    "# 그래프 출력 함수\n",
    "def plot_results(hist):\n",
    "    plt.figure(figsize=(15,5))\n",
    "    plt.subplot(121)\n",
    "    plt.plot(hist['train_acc'], label='Training acc')\n",
    "    plt.plot(hist['val_acc'], label='Validation acc')\n",
    "    plt.legend()\n",
    "    plt.subplot(122)\n",
    "    plt.plot(hist['train_loss'], label='Training loss')\n",
    "    plt.plot(hist['val_loss'], label='Validation loss')\n",
    "    plt.legend()"
   ]
  },
  {
   "cell_type": "markdown",
   "id": "43d4815b-6a87-4613-99ac-aa41a4331327",
   "metadata": {},
   "source": [
    "### **클래스 기반 네트워크 정의**\n",
    "`Sequential` 스타일을 레이어 목록으로 모델을 정의하면 편해 보이지만 제한적이다.   \n",
    "공규 가중치를 포함하는 더 복잡한 네트워크 또는 레이어간의 비선형 연결을 정의하기 힘들다"
   ]
  },
  {
   "cell_type": "code",
   "execution_count": 14,
   "id": "fd51ac1a-b418-432e-be47-29d344321525",
   "metadata": {},
   "outputs": [
    {
     "data": {
      "text/plain": [
       "==========================================================================================\n",
       "Layer (type:depth-idx)                   Output Shape              Param #\n",
       "==========================================================================================\n",
       "MyNet                                    --                        --\n",
       "├─Flatten: 1-1                           [1, 784]                  --\n",
       "├─Linear: 1-2                            [1, 100]                  78,500\n",
       "├─Linear: 1-3                            [1, 10]                   1,010\n",
       "==========================================================================================\n",
       "Total params: 79,510\n",
       "Trainable params: 79,510\n",
       "Non-trainable params: 0\n",
       "Total mult-adds (M): 0.08\n",
       "==========================================================================================\n",
       "Input size (MB): 0.00\n",
       "Forward/backward pass size (MB): 0.00\n",
       "Params size (MB): 0.32\n",
       "Estimated Total Size (MB): 0.32\n",
       "=========================================================================================="
      ]
     },
     "execution_count": 14,
     "metadata": {},
     "output_type": "execute_result"
    }
   ],
   "source": [
    "from torch.nn.functional import relu, log_softmax\n",
    "\n",
    "class MyNet(nn.Module):\n",
    "    def __init__(self):\n",
    "        # 네트워크의 레이어 정의\n",
    "        super(MyNet, self).__init__()\n",
    "        self.flatten = nn.Flatten()\n",
    "        self.hidden = nn.Linear(784, 100)\n",
    "        self.out = nn.Linear(100, 10)\n",
    "        \n",
    "    def forward(self, x):\n",
    "        # 순방향 전달 게산을 수행하는 방법 정의\n",
    "        x = self.flatten(x)\n",
    "        x = self.hidden(x)\n",
    "        x = relu(x)\n",
    "        x = self.out(x)\n",
    "        x = log_softmax(x, dim=0)\n",
    "        return x\n",
    "net = MyNet()\n",
    "\n",
    "summary(net, input_size=(1, 28, 28))"
   ]
  },
  {
   "cell_type": "markdown",
   "id": "3daa0e06-89db-4504-8618-28d5cb2f06f9",
   "metadata": {},
   "source": [
    "클래스를 사용하면 단순 `Sequential`로 정의한 네트워크보다 명시적으로 표현할 수 있는 기회와 `유연성`을 얻게 된다.    \n",
    "이것이 신경망 정의를 위해 클래스를 사용하는 것이 권장되고 추론되는 이유 중 하나이다."
   ]
  },
  {
   "cell_type": "markdown",
   "id": "40e2ab9a-696c-44e3-a2e0-4b881d9769d3",
   "metadata": {},
   "source": [
    "### **마무리**\n",
    "다층 퍼셉트론은 컴퓨터 비전에 적합하지 않다   \n",
    "이미지에는 물체 분류에 도움이 되는 몇가지 구조적 패턴이 있지만 퍼셉트론은 이러한 **패턴을 선택적으로 찾을 수 없기** 때문이다.   \n"
   ]
  },
  {
   "cell_type": "code",
   "execution_count": null,
   "id": "8658be49-0326-4e7d-b9bf-492526d78987",
   "metadata": {},
   "outputs": [],
   "source": []
  }
 ],
 "metadata": {
  "kernelspec": {
   "display_name": "Python 3",
   "language": "python",
   "name": "python3"
  },
  "language_info": {
   "codemirror_mode": {
    "name": "ipython",
    "version": 3
   },
   "file_extension": ".py",
   "mimetype": "text/x-python",
   "name": "python",
   "nbconvert_exporter": "python",
   "pygments_lexer": "ipython3",
   "version": "3.8.8"
  }
 },
 "nbformat": 4,
 "nbformat_minor": 5
}
