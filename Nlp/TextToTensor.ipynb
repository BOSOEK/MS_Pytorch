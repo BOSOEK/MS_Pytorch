{
 "cells": [
  {
   "cell_type": "markdown",
   "id": "f2c936a4-bbc5-4c4a-b5c6-5c23fb2d6d92",
   "metadata": {},
   "source": [
    "# **Representing text**\n",
    "신경망은 텍스트 표현시 다음의 방식을 사용한다.\n",
    "* 문자 표현 : 각 문자를 숫자로 취급하여 텍스트 표현\n",
    "* 단어 표현 : 텍스트의 모든 단위를 원한 인코딩하여 단어 표현"
   ]
  },
  {
   "cell_type": "code",
   "execution_count": 1,
   "id": "18cd3d2f-d17a-4bc1-b51e-f5e7a00f067d",
   "metadata": {},
   "outputs": [
    {
     "name": "stdout",
     "output_type": "stream",
     "text": [
      "Collecting gensim==3.8.3\n",
      "  Downloading gensim-3.8.3-cp38-cp38-win_amd64.whl (24.2 MB)\n",
      "Collecting huggingface==0.0.1\n",
      "  Downloading huggingface-0.0.1-py3-none-any.whl (2.5 kB)\n",
      "Requirement already satisfied: matplotlib in d:\\download\\anaconda\\lib\\site-packages (from -r https://raw.githubusercontent.com/MicrosoftDocs/pytorchfundamentals/main/nlp-pytorch/requirements.txt (line 3)) (3.3.4)\n",
      "Collecting nltk==3.5\n",
      "  Downloading nltk-3.5.zip (1.4 MB)\n",
      "Collecting numpy==1.18.5"
     ]
    },
    {
     "name": "stderr",
     "output_type": "stream",
     "text": [
      "ERROR: Could not install packages due to an OSError: [WinError 5] 액세스가 거부되었습니다: 'C:\\\\Users\\\\김보석\\\\AppData\\\\Roaming\\\\Python\\\\Python38\\\\site-packages\\\\~umpy\\\\.libs\\\\libopenblas.WCDJNK7YVMPZQ2ME2ZZHJJRJ3JIKNDB7.gfortran-win_amd64.dll'\n",
      "Consider using the `--user` option or check the permissions.\n",
      "\n"
     ]
    },
    {
     "name": "stdout",
     "output_type": "stream",
     "text": [
      "\n",
      "  Downloading numpy-1.18.5-cp38-cp38-win_amd64.whl (12.8 MB)\n",
      "Collecting opencv-python==4.5.1.48\n",
      "  Downloading opencv_python-4.5.1.48-cp38-cp38-win_amd64.whl (34.9 MB)\n",
      "Collecting Pillow==7.1.2\n",
      "  Downloading Pillow-7.1.2-cp38-cp38-win_amd64.whl (2.0 MB)\n",
      "Requirement already satisfied: scikit-learn in d:\\download\\anaconda\\lib\\site-packages (from -r https://raw.githubusercontent.com/MicrosoftDocs/pytorchfundamentals/main/nlp-pytorch/requirements.txt (line 8)) (0.24.1)\n",
      "Requirement already satisfied: scipy in d:\\download\\anaconda\\lib\\site-packages (from -r https://raw.githubusercontent.com/MicrosoftDocs/pytorchfundamentals/main/nlp-pytorch/requirements.txt (line 9)) (1.6.2)\n",
      "Collecting torch==1.8.1\n",
      "  Downloading torch-1.8.1-cp38-cp38-win_amd64.whl (190.5 MB)\n",
      "Collecting torchaudio==0.8.1\n",
      "  Downloading torchaudio-0.8.1-cp38-none-win_amd64.whl (109 kB)\n",
      "Collecting torchinfo==0.0.8\n",
      "  Downloading torchinfo-0.0.8-py3-none-any.whl (16 kB)\n",
      "Collecting torchtext==0.9.1\n",
      "  Downloading torchtext-0.9.1-cp38-cp38-win_amd64.whl (1.5 MB)\n",
      "Collecting torchvision==0.9.1\n",
      "  Downloading torchvision-0.9.1-cp38-cp38-win_amd64.whl (852 kB)\n",
      "Collecting transformers==4.3.3\n",
      "  Downloading transformers-4.3.3-py3-none-any.whl (1.9 MB)\n",
      "Collecting smart-open>=1.8.1\n",
      "  Downloading smart_open-5.1.0-py3-none-any.whl (57 kB)\n",
      "Requirement already satisfied: six>=1.5.0 in d:\\download\\anaconda\\lib\\site-packages (from gensim==3.8.3->-r https://raw.githubusercontent.com/MicrosoftDocs/pytorchfundamentals/main/nlp-pytorch/requirements.txt (line 1)) (1.15.0)\n",
      "Collecting Cython==0.29.14\n",
      "  Downloading Cython-0.29.14-cp38-cp38-win_amd64.whl (1.7 MB)\n",
      "Requirement already satisfied: click in d:\\download\\anaconda\\lib\\site-packages (from nltk==3.5->-r https://raw.githubusercontent.com/MicrosoftDocs/pytorchfundamentals/main/nlp-pytorch/requirements.txt (line 4)) (7.1.2)\n",
      "Requirement already satisfied: joblib in d:\\download\\anaconda\\lib\\site-packages (from nltk==3.5->-r https://raw.githubusercontent.com/MicrosoftDocs/pytorchfundamentals/main/nlp-pytorch/requirements.txt (line 4)) (1.0.1)\n",
      "Requirement already satisfied: regex in d:\\download\\anaconda\\lib\\site-packages (from nltk==3.5->-r https://raw.githubusercontent.com/MicrosoftDocs/pytorchfundamentals/main/nlp-pytorch/requirements.txt (line 4)) (2021.4.4)\n",
      "Requirement already satisfied: tqdm in d:\\download\\anaconda\\lib\\site-packages (from nltk==3.5->-r https://raw.githubusercontent.com/MicrosoftDocs/pytorchfundamentals/main/nlp-pytorch/requirements.txt (line 4)) (4.59.0)\n",
      "Requirement already satisfied: typing-extensions in d:\\download\\anaconda\\lib\\site-packages (from torch==1.8.1->-r https://raw.githubusercontent.com/MicrosoftDocs/pytorchfundamentals/main/nlp-pytorch/requirements.txt (line 10)) (3.7.4.3)\n",
      "Requirement already satisfied: requests in d:\\download\\anaconda\\lib\\site-packages (from torchtext==0.9.1->-r https://raw.githubusercontent.com/MicrosoftDocs/pytorchfundamentals/main/nlp-pytorch/requirements.txt (line 13)) (2.25.1)\n",
      "Requirement already satisfied: packaging in d:\\download\\anaconda\\lib\\site-packages (from transformers==4.3.3->-r https://raw.githubusercontent.com/MicrosoftDocs/pytorchfundamentals/main/nlp-pytorch/requirements.txt (line 15)) (20.9)\n",
      "Collecting sacremoses\n",
      "  Downloading sacremoses-0.0.45-py3-none-any.whl (895 kB)\n",
      "Requirement already satisfied: filelock in d:\\download\\anaconda\\lib\\site-packages (from transformers==4.3.3->-r https://raw.githubusercontent.com/MicrosoftDocs/pytorchfundamentals/main/nlp-pytorch/requirements.txt (line 15)) (3.0.12)\n",
      "Collecting tokenizers<0.11,>=0.10.1\n",
      "  Downloading tokenizers-0.10.3-cp38-cp38-win_amd64.whl (2.0 MB)\n",
      "Requirement already satisfied: cycler>=0.10 in d:\\download\\anaconda\\lib\\site-packages (from matplotlib->-r https://raw.githubusercontent.com/MicrosoftDocs/pytorchfundamentals/main/nlp-pytorch/requirements.txt (line 3)) (0.10.0)\n",
      "Requirement already satisfied: python-dateutil>=2.1 in d:\\download\\anaconda\\lib\\site-packages (from matplotlib->-r https://raw.githubusercontent.com/MicrosoftDocs/pytorchfundamentals/main/nlp-pytorch/requirements.txt (line 3)) (2.8.1)\n",
      "Requirement already satisfied: pyparsing!=2.0.4,!=2.1.2,!=2.1.6,>=2.0.3 in d:\\download\\anaconda\\lib\\site-packages (from matplotlib->-r https://raw.githubusercontent.com/MicrosoftDocs/pytorchfundamentals/main/nlp-pytorch/requirements.txt (line 3)) (2.4.7)\n",
      "Requirement already satisfied: kiwisolver>=1.0.1 in d:\\download\\anaconda\\lib\\site-packages (from matplotlib->-r https://raw.githubusercontent.com/MicrosoftDocs/pytorchfundamentals/main/nlp-pytorch/requirements.txt (line 3)) (1.3.1)\n",
      "Requirement already satisfied: threadpoolctl>=2.0.0 in d:\\download\\anaconda\\lib\\site-packages (from scikit-learn->-r https://raw.githubusercontent.com/MicrosoftDocs/pytorchfundamentals/main/nlp-pytorch/requirements.txt (line 8)) (2.1.0)\n",
      "Requirement already satisfied: chardet<5,>=3.0.2 in d:\\download\\anaconda\\lib\\site-packages (from requests->torchtext==0.9.1->-r https://raw.githubusercontent.com/MicrosoftDocs/pytorchfundamentals/main/nlp-pytorch/requirements.txt (line 13)) (4.0.0)\n",
      "Requirement already satisfied: urllib3<1.27,>=1.21.1 in d:\\download\\anaconda\\lib\\site-packages (from requests->torchtext==0.9.1->-r https://raw.githubusercontent.com/MicrosoftDocs/pytorchfundamentals/main/nlp-pytorch/requirements.txt (line 13)) (1.26.4)\n",
      "Requirement already satisfied: certifi>=2017.4.17 in d:\\download\\anaconda\\lib\\site-packages (from requests->torchtext==0.9.1->-r https://raw.githubusercontent.com/MicrosoftDocs/pytorchfundamentals/main/nlp-pytorch/requirements.txt (line 13)) (2021.5.30)\n",
      "Requirement already satisfied: idna<3,>=2.5 in d:\\download\\anaconda\\lib\\site-packages (from requests->torchtext==0.9.1->-r https://raw.githubusercontent.com/MicrosoftDocs/pytorchfundamentals/main/nlp-pytorch/requirements.txt (line 13)) (2.10)\n",
      "Building wheels for collected packages: nltk\n",
      "  Building wheel for nltk (setup.py): started\n",
      "  Building wheel for nltk (setup.py): finished with status 'done'\n",
      "  Created wheel for nltk: filename=nltk-3.5-py3-none-any.whl size=1434676 sha256=2828dfdb24cbcb68d3acae5d5d192459cf3f1d47d41ce401984540add771bbe7\n",
      "  Stored in directory: c:\\users\\김보석\\appdata\\local\\pip\\cache\\wheels\\ff\\d5\\7b\\f1fb4e1e1603b2f01c2424dd60fbcc50c12ef918bafc44b155\n",
      "Successfully built nltk\n",
      "Installing collected packages: numpy, torch, tokenizers, smart-open, sacremoses, Pillow, Cython, transformers, torchvision, torchtext, torchinfo, torchaudio, opencv-python, nltk, huggingface, gensim\n",
      "  Attempting uninstall: numpy\n",
      "    Found existing installation: numpy 1.19.5\n",
      "    Uninstalling numpy-1.19.5:\n",
      "      Successfully uninstalled numpy-1.19.5\n"
     ]
    }
   ],
   "source": [
    "!pip install -r https://raw.githubusercontent.com/MicrosoftDocs/pytorchfundamentals/main/nlp-pytorch/requirements.txt"
   ]
  },
  {
   "cell_type": "markdown",
   "id": "ba2348e4-734c-4bdb-b8c3-05df4b4fd835",
   "metadata": {},
   "source": [
    "### **텍스트 분류 작업**\n",
    "`torchtext` 모듈의 데이터로 연습한다."
   ]
  },
  {
   "cell_type": "code",
   "execution_count": 2,
   "id": "90f0b339-bbab-48b2-8175-eb039d1a4906",
   "metadata": {},
   "outputs": [
    {
     "name": "stderr",
     "output_type": "stream",
     "text": [
      "D:\\data\\AG_NEWS\\train.csv: 29.5MB [00:01, 26.7MB/s]                                                                    \n",
      "D:\\data\\AG_NEWS\\test.csv: 1.86MB [00:00, 12.8MB/s]                                                                     \n"
     ]
    }
   ],
   "source": [
    "import torch\n",
    "import torchtext\n",
    "import os\n",
    "import collections\n",
    "os.makedirs('./data', exist_ok=True)\n",
    "train_dataset, test_dataset = torchtext.datasets.AG_NEWS(root='/data')\n",
    "classes = ['World', 'Sports', 'Business', 'Sci/Tech']"
   ]
  },
  {
   "cell_type": "code",
   "execution_count": 3,
   "id": "3fff1121-289b-4232-805b-fb21f2eb3c18",
   "metadata": {},
   "outputs": [
    {
     "name": "stderr",
     "output_type": "stream",
     "text": [
      "D:\\github\\MS_Pytorch\\NNP\\data\\AG_NEWS\\train.csv: 29.5MB [00:01, 25.0MB/s]                                              \n",
      "D:\\github\\MS_Pytorch\\NNP\\data\\AG_NEWS\\test.csv: 1.86MB [00:00, 14.7MB/s]                                               \n"
     ]
    }
   ],
   "source": [
    "# 이 데이터는 반복이기 때문에 데이터를 여러번 사용할려 할 시 목록으로 변환해야 한다.\n",
    "train_dataset, test_dataset = torchtext.datasets.AG_NEWS(root='./data')\n",
    "train_dataset = list(train_dataset)\n",
    "test_dataset = list(test_dataset)"
   ]
  },
  {
   "cell_type": "markdown",
   "id": "f3aad482-ebf1-40d7-a034-d940635bd98b",
   "metadata": {},
   "source": [
    "이제 텍스트를 텐서로 나타내는 숫자로 변환해야 한다. 두가지 과정이 있다.\n",
    "* 토크나이저로 텍스트를 토큰으로 분할\n",
    "* 토큰의 어휘 구축"
   ]
  },
  {
   "cell_type": "code",
   "execution_count": 7,
   "id": "38586197-a3f5-4dce-8dd8-4ef4bb9e2029",
   "metadata": {},
   "outputs": [],
   "source": [
    "tokenizer = torchtext.data.utils.get_tokenizer('basic_english')\n",
    "tokenizer('He said: hello')\n",
    "\n",
    "counter = collections.Counter()\n",
    "for (label, line) in train_dataset:\n",
    "    counter.update(tokenizer(line))\n",
    "vocab = torchtext.vocab.Vocab(counter)"
   ]
  },
  {
   "cell_type": "code",
   "execution_count": null,
   "id": "a67484bd-1cad-40b0-a247-560a4fb9e2b0",
   "metadata": {},
   "outputs": [],
   "source": [
    "# 어휘를 사용하여 토큰화 된 문자열을 숫자로 인코딩 가능하다\n",
    "vocab_size = len(vocab)\n",
    "print(f\"vocab size if {vocab_size}\")\n",
    "\n",
    "def encode(x):\n",
    "    return [vocab.stoi[s] for s in tokenizer(x)]\n",
    "encode('I love to play with my words')"
   ]
  },
  {
   "cell_type": "code",
   "execution_count": null,
   "id": "20f25562-fc53-45ed-a538-e0a5c6e75936",
   "metadata": {},
   "outputs": [],
   "source": []
  }
 ],
 "metadata": {
  "kernelspec": {
   "display_name": "Python 3",
   "language": "python",
   "name": "python3"
  },
  "language_info": {
   "codemirror_mode": {
    "name": "ipython",
    "version": 3
   },
   "file_extension": ".py",
   "mimetype": "text/x-python",
   "name": "python",
   "nbconvert_exporter": "python",
   "pygments_lexer": "ipython3",
   "version": "3.8.8"
  }
 },
 "nbformat": 4,
 "nbformat_minor": 5
}
