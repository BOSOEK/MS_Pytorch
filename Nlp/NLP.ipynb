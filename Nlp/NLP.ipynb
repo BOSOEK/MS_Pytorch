{
 "cells": [
  {
   "cell_type": "markdown",
   "id": "f154d222-108f-41a8-a4d6-a5b98cd8081e",
   "metadata": {},
   "source": [
    "# **자연어 처리**\n",
    "* #### 자연어 처리(Natural language processing, NLP) : Text 데이터를 분석 & 모델링 하는 분야(자연어 생성 & 이해 포함)\n",
    "* #### 자연어 이해(Natural Language Understanding, NLU) : 자연어 이해 영역\n",
    "* #### 자연어 생성(Natural Language Generation, LNG) : 자연어 생성 영역\n",
    "\n",
    "***\n",
    "\n",
    "## 1. NLP Task\n",
    "* 감정 분석\n",
    "* 요약\n",
    "* 기계 번역\n",
    "* 질문 응답\n",
    "\n",
    "## 2. 문자를 숫자로 표현\n",
    "1. 문장을 의미 있는 부분으로 나눈다.\n",
    "    * Tokenization : 문장의 의미 있는 부분으로 나눔\n",
    "    * Token : 나눠진 부분\n",
    "2. 나눠진 의미 있는 부분 부분을 숫자로 바꿔 문장을 숫자로 표현한다.\n",
    "    * Vocabulary : 토큰을 저장해 놓은 딕셔너리로 글을 index로 숫자를 value로 하여 문자를 숫자로 변환한다\n",
    "\n",
    "### 2-1. Out-Of-Vocabulary(OVV)\n",
    "Vocabulary에 없는 토큰이 나오는 현상\n",
    "* 말뭉치(Corpus) : 토큰을 모으기 위해 모아 놓은 문장의 모음    \n",
    "\n",
    "OOV를 해결하기 위해 글자를 토큰으로 사용한다면?\n",
    "* 사전의 크기 면에서 부담되지 않는다\n",
    "* OVV 현상을 아예 없앨 수 있다\n",
    "* 또한 단축어나 신조어를 걱정하지 않아도 된다\n",
    "> 하지만, 문자 각각은 아무런 의미가 없고 문자가 합쳐진 단위에서의 의미를 학습시키는 것이 힘들어 실제로는 사용하지 않는다.   \n",
    "* **n-gram Tokenization** : 글자보다 긴 토큰을 만드는 방법으로, n에 따라 윈도우가 이동하며 토큰을 잡아내며 n=1이면 uni-gram, n=2면 bi-gram, n=3이면 tri-gram, n>=4면 n-gram으로 나타낸다.\n",
    "> 글자 기준이 아닌 띄어쓰기 기준으로도 n-gram을 사용할 수 있다   \n",
    "\n",
    "하지만 쓸모 없는 조합이 너무 많이 생성되고, 사전이 과하게 커진다는 단점이 있다.   \n",
    "\n",
    "* __BPE(Byte Pair Encoding)__   \n",
    "\n",
    "> n-gram에서 연속된 글자의 나열들 중 __여러번 나타나는 글__ 을 자주 나오는 글자라는 'Subward',로 한번더 치환하는 것(apple 이 자주 나오면 apple 을 A로 사전에 저장)\n",
    "1. 단어 횟수를 기록한 사전을 만든다. 이때 사전 단어 글자는 모두 띄어 표현\n",
    "2. 각 단어에 연속된 2개의 글자의 숫자를 세어 가장 많이 나오는 글자 2개의 조합을 찾는다\n",
    "3. 두 글자를 합쳐 기존 사전의 단어 수정\n",
    "4. 미리 정해 놓은 횟수 만큼 반복"
   ]
  }
 ],
 "metadata": {
  "kernelspec": {
   "display_name": "Python 3",
   "language": "python",
   "name": "python3"
  },
  "language_info": {
   "codemirror_mode": {
    "name": "ipython",
    "version": 3
   },
   "file_extension": ".py",
   "mimetype": "text/x-python",
   "name": "python",
   "nbconvert_exporter": "python",
   "pygments_lexer": "ipython3",
   "version": "3.8.8"
  }
 },
 "nbformat": 4,
 "nbformat_minor": 5
}
