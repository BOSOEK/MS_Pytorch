{
 "cells": [
  {
   "cell_type": "markdown",
   "id": "add1043e-1f58-491f-823e-e46d5eca6b14",
   "metadata": {},
   "source": [
    "# Pre-Trained BERT Model로 모델 만들기   \n",
    "지원 모델 보기 : https://huggingface.co/transformers/pretrained_model.html"
   ]
  },
  {
   "cell_type": "code",
   "execution_count": null,
   "id": "f0c85a90-bccf-4ad2-8ff7-795928f0009b",
   "metadata": {},
   "outputs": [],
   "source": [
    "from transformers import BertModel\n",
    "\n",
    "bert = BertModel.from_pretrained('bert-base-uncased')          # 모델 이름 입력하면 가져와 사용가능\n",
    "model_config['emb_dim'] = bert.config.to_dict()['hidden_size']\n",
    "print(model_config['emb_dim'])                                 # \n",
    "\n",
    "class SentenceClassification(nn.Module):\n",
    "    def __init__(self, **model_cofig):\n",
    "        super(SentenceClassificatino, self).__init__()\n",
    "        self.bert = bert\n",
    "        self.fc = nn.Linear(model_config['emb_dim'], model_config['output_dim'])\n",
    "    def forward(self, x):\n",
    "        pooled_cls_output = self.bert(x)[1]                    # \n",
    "        return self.fc(pooled_cls_output)"
   ]
  },
  {
   "cell_type": "code",
   "execution_count": null,
   "id": "7a8d28ab-998b-4fb2-a548-13c021a6700b",
   "metadata": {},
   "outputs": [],
   "source": []
  }
 ],
 "metadata": {
  "kernelspec": {
   "display_name": "Python 3",
   "language": "python",
   "name": "python3"
  },
  "language_info": {
   "codemirror_mode": {
    "name": "ipython",
    "version": 3
   },
   "file_extension": ".py",
   "mimetype": "text/x-python",
   "name": "python",
   "nbconvert_exporter": "python",
   "pygments_lexer": "ipython3",
   "version": "3.8.8"
  }
 },
 "nbformat": 4,
 "nbformat_minor": 5
}
